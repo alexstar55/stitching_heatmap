{
  "nbformat": 4,
  "nbformat_minor": 0,
  "metadata": {
    "colab": {
      "name": "DailyNotes.ipynb",
      "version": "0.3.2",
      "provenance": [],
      "collapsed_sections": [
        "GW_syKPu7T2a",
        "NZdqjboNk38B"
      ],
      "toc_visible": true,
      "include_colab_link": true
    },
    "kernelspec": {
      "name": "python3",
      "display_name": "Python 3"
    }
  },
  "cells": [
    {
      "cell_type": "markdown",
      "metadata": {
        "id": "view-in-github",
        "colab_type": "text"
      },
      "source": [
        "<a href=\"https://colab.research.google.com/github/alexstar55/stitching_heatmap/blob/master/DailyNotes.ipynb\" target=\"_parent\"><img src=\"https://colab.research.google.com/assets/colab-badge.svg\" alt=\"Open In Colab\"/></a>"
      ]
    },
    {
      "cell_type": "code",
      "metadata": {
        "id": "qx_w6fHg5rzp",
        "colab_type": "code",
        "colab": {}
      },
      "source": [
        ""
      ],
      "execution_count": 0,
      "outputs": []
    },
    {
      "cell_type": "markdown",
      "metadata": {
        "id": "9suf6dhc5wWb",
        "colab_type": "text"
      },
      "source": [
        "## 0712  \n",
        "\n",
        "\n"
      ]
    },
    {
      "cell_type": "markdown",
      "metadata": {
        "id": "6j2MfSjl6mUg",
        "colab_type": "text"
      },
      "source": [
        "### 记事  \n"
      ]
    },
    {
      "cell_type": "markdown",
      "metadata": {
        "id": "kB60eGdV84On",
        "colab_type": "text"
      },
      "source": [
        "#### plan:"
      ]
    },
    {
      "cell_type": "markdown",
      "metadata": {
        "id": "4eqIYImCHg9v",
        "colab_type": "text"
      },
      "source": [
        "- 修改gene_maskGaus.py，生成单张与视频heatmap;  \n",
        "- 写datastructure笔记，操作selenium eclipse\n",
        "- fastai lec13"
      ]
    },
    {
      "cell_type": "markdown",
      "metadata": {
        "id": "9rcwiTI7HtdV",
        "colab_type": "text"
      },
      "source": [
        "#### done"
      ]
    },
    {
      "cell_type": "markdown",
      "metadata": {
        "id": "p865PQy5H3tl",
        "colab_type": "text"
      },
      "source": [
        "- "
      ]
    },
    {
      "cell_type": "code",
      "metadata": {
        "id": "yKp1dOcy6gJn",
        "colab_type": "code",
        "colab": {}
      },
      "source": [
        ""
      ],
      "execution_count": 0,
      "outputs": []
    },
    {
      "cell_type": "markdown",
      "metadata": {
        "id": "6uNIfTZL6rni",
        "colab_type": "text"
      },
      "source": [
        "### 小代码与Tips"
      ]
    },
    {
      "cell_type": "markdown",
      "metadata": {
        "id": "GW_syKPu7T2a",
        "colab_type": "text"
      },
      "source": [
        "#### [如何在 GitHub.com 上删除某个 Repository 中的某个文件夹？](https://www.zhihu.com/question/20418177)  \n"
      ]
    },
    {
      "cell_type": "markdown",
      "metadata": {
        "id": "7uxsnQjaCFwX",
        "colab_type": "text"
      },
      "source": [
        "步骤：（以删除.idea文件夹为例）  \n",
        "`git rm -r --cached .idea  #--cached不会把本地的.idea删除`  \n",
        "`git commit -m 'delete .idea dir'`  \n",
        "`git push -u origin master(或者git push -u origin dev)  \n",
        "`"
      ]
    },
    {
      "cell_type": "markdown",
      "metadata": {
        "id": "aflNyWNGAVDl",
        "colab_type": "text"
      },
      "source": [
        "#### [tmux加鼠标滚屏](https://www.jianshu.com/p/c217318a9380)  \n",
        " tmux 提供了一些个性化配置项来优化这些配置，首先在 shell 中运行 touch ~/.tmux.conf 新建用户配置文件。在文件中增加以下内容：  \n",
        "\n",
        " "
      ]
    },
    {
      "cell_type": "markdown",
      "metadata": {
        "id": "6OW_zIVRB7v_",
        "colab_type": "text"
      },
      "source": [
        " ```\n",
        " # 开启鼠标模式\n",
        "set -g mode-mouse on\n",
        "\n",
        "# 允许鼠标选择窗格\n",
        "set -g mouse-select-pane on\n",
        "\n",
        "# 如果喜欢给窗口自定义命名，那么需要关闭窗口的自动命名\n",
        "set-option -g allow-rename off\n",
        "\n",
        "# 如果对 vim 比较熟悉，可以将 copy mode 的快捷键换成 vi 模式\n",
        "set-window-option -g mode-keys vi\n",
        "```"
      ]
    },
    {
      "cell_type": "markdown",
      "metadata": {
        "id": "R3hfjHQNfZAz",
        "colab_type": "text"
      },
      "source": [
        "#### 获得文件修改时间，检查文件是否存在"
      ]
    },
    {
      "cell_type": "markdown",
      "metadata": {
        "id": "NVmi9gekfh89",
        "colab_type": "text"
      },
      "source": [
        "本地时间：time.strftime('%Y%m%d', time.localtime(time.time()))  \n"
      ]
    },
    {
      "cell_type": "markdown",
      "metadata": {
        "id": "_eIswU7HYJXi",
        "colab_type": "text"
      },
      "source": [
        "- 涉及文件是否存在，与获得修改时间的代码片段\n",
        "pana_name=\"pana_last_\"+shop[0]+\".jpg\" #sth like \"pana_last_S0027\"\n",
        "        if os.path.exists(os.path.join(bg_path,pana_name)): #if the shop's bg pic exists\n",
        "            filemt = time.localtime(os.stat(\n",
        "                os.path.join(bg_path, pana_name)).st_mtime)  # get the touch time of the bg file\n",
        "            if (int(time.strftime(\"%Y%m%d\", filemt))<date_now)"
      ]
    },
    {
      "cell_type": "code",
      "metadata": {
        "id": "72lR4KOq6qDn",
        "colab_type": "code",
        "colab": {}
      },
      "source": [
        ""
      ],
      "execution_count": 0,
      "outputs": []
    },
    {
      "cell_type": "markdown",
      "metadata": {
        "id": "Bs_eCtDSYo5I",
        "colab_type": "text"
      },
      "source": [
        "## 0715"
      ]
    },
    {
      "cell_type": "markdown",
      "metadata": {
        "id": "ULMDjrZ-YuLG",
        "colab_type": "text"
      },
      "source": [
        "### 记事"
      ]
    },
    {
      "cell_type": "markdown",
      "metadata": {
        "id": "JJi-JECQYxHt",
        "colab_type": "text"
      },
      "source": [
        "- 阈值代码修改\n",
        "- 爬虫下载——>Undone\n",
        "- lec13"
      ]
    },
    {
      "cell_type": "markdown",
      "metadata": {
        "id": "OCXbp3a-rSJo",
        "colab_type": "text"
      },
      "source": [
        "## 0717"
      ]
    },
    {
      "cell_type": "markdown",
      "metadata": {
        "id": "KdnSKyQOrWGj",
        "colab_type": "text"
      },
      "source": [
        "### 记事"
      ]
    },
    {
      "cell_type": "markdown",
      "metadata": {
        "id": "liG9CCO7rY80",
        "colab_type": "text"
      },
      "source": [
        "- gene video调试、测试ok\n",
        "- py36本地环境[成功解决 module 'cv2' has no attribute 'xfeatures2d'](https://blog.csdn.net/Sunny_Future/article/details/87949013)：需要卸载opencv，只安装opencv-contrib-python  \n",
        "后证实是opencv要3.4.1.15，而3.3版本不行\n",
        "- 下载视频代码与展示代码调试"
      ]
    },
    {
      "cell_type": "code",
      "metadata": {
        "id": "p8Pt7X0_YtBR",
        "colab_type": "code",
        "colab": {}
      },
      "source": [
        ""
      ],
      "execution_count": 0,
      "outputs": []
    },
    {
      "cell_type": "markdown",
      "metadata": {
        "colab_type": "text",
        "id": "LL3gf1hLgQM5"
      },
      "source": [
        "## 0718"
      ]
    },
    {
      "cell_type": "markdown",
      "metadata": {
        "colab_type": "text",
        "id": "eH4YW6NUgQM7"
      },
      "source": [
        "### 记事"
      ]
    },
    {
      "cell_type": "markdown",
      "metadata": {
        "colab_type": "text",
        "id": "yWpKrBZ5gQM7"
      },
      "source": [
        "- 模拟5小时数据测试处理ok\n",
        "- max_thresh, inter_thresh两种阈值代码修改\n",
        "- 下载视频代码与展示代码调试"
      ]
    },
    {
      "cell_type": "code",
      "metadata": {
        "id": "Tdio1v1fggFT",
        "colab_type": "code",
        "colab": {}
      },
      "source": [
        ""
      ],
      "execution_count": 0,
      "outputs": []
    },
    {
      "cell_type": "markdown",
      "metadata": {
        "colab_type": "text",
        "id": "aqNqcuXW5LYK"
      },
      "source": [
        "## 0719"
      ]
    },
    {
      "cell_type": "markdown",
      "metadata": {
        "colab_type": "text",
        "id": "uDJlVb165LYQ"
      },
      "source": [
        "### 记事"
      ]
    },
    {
      "cell_type": "markdown",
      "metadata": {
        "colab_type": "text",
        "id": "GHW07Hx45LYR"
      },
      "source": [
        "- 网页模拟\n",
        "- 图片展示改进\n",
        "\n",
        "Path(savepth).mkdir(parents=True, exist_ok=True)可以新建好几层目录"
      ]
    },
    {
      "cell_type": "code",
      "metadata": {
        "id": "8FA9_Cf45S8C",
        "colab_type": "code",
        "colab": {}
      },
      "source": [
        ""
      ],
      "execution_count": 0,
      "outputs": []
    },
    {
      "cell_type": "markdown",
      "metadata": {
        "colab_type": "text",
        "id": "UigGxpfVZzXz"
      },
      "source": [
        "## 0722"
      ]
    },
    {
      "cell_type": "markdown",
      "metadata": {
        "colab_type": "text",
        "id": "DUZLboSPZzX5"
      },
      "source": [
        "### 记事"
      ]
    },
    {
      "cell_type": "markdown",
      "metadata": {
        "colab_type": "text",
        "id": "kCd7kWs-ZzX6"
      },
      "source": [
        "- 网页模拟图片大小修改（尽量大），阈值修改 以显示红色\n",
        "- 加代码使用潘执政yolo检测人\n",
        "- 刘兵 协助改图片缩放  css使用\n",
        "- 上传python学习文件\n"
      ]
    },
    {
      "cell_type": "markdown",
      "metadata": {
        "colab_type": "text",
        "id": "AmJgySaedqss"
      },
      "source": [
        "## 0723"
      ]
    },
    {
      "cell_type": "markdown",
      "metadata": {
        "colab_type": "text",
        "id": "0AgkvIcRdqs5"
      },
      "source": [
        "### 记事"
      ]
    },
    {
      "cell_type": "markdown",
      "metadata": {
        "colab_type": "text",
        "id": "-3bB02r9dqs8"
      },
      "source": [
        "- 网页模拟图片字体修改\n",
        "- 准备定时运行代码\n",
        "- 翻译。188行，5月？\n",
        "- fastai lec13, pandas处理kaggle\n",
        "- 上传python学习文件\n"
      ]
    },
    {
      "cell_type": "code",
      "metadata": {
        "id": "xjNtXoeFZ_so",
        "colab_type": "code",
        "colab": {}
      },
      "source": [
        ""
      ],
      "execution_count": 0,
      "outputs": []
    },
    {
      "cell_type": "markdown",
      "metadata": {
        "colab_type": "text",
        "id": "3Rhr7nA5k378"
      },
      "source": [
        "## 0724"
      ]
    },
    {
      "cell_type": "markdown",
      "metadata": {
        "colab_type": "text",
        "id": "NZdqjboNk38B"
      },
      "source": [
        "### 记事"
      ]
    },
    {
      "cell_type": "markdown",
      "metadata": {
        "colab_type": "text",
        "id": "yZUud5rQk38C"
      },
      "source": [
        "- 热力图色谱 自定义\n",
        "- 阈值改变\n",
        "- 网页标题调整。春哥翻译完成\n"
      ]
    },
    {
      "cell_type": "code",
      "metadata": {
        "id": "XHwpeJPWk5lC",
        "colab_type": "code",
        "colab": {}
      },
      "source": [
        "def gene1heatpic(img_paths,rec_paths,starttime,endtime,threshold,a_list): #txtlst\n",
        "    '''\n",
        "\n",
        "    :param img_paths: no person pictures of 1 shop, sth like [PosixPath('picture/S0027_z100256_20190712.jpg'),\n",
        "   PosixPath('picture/S0027_z100257_20190712.jpg'),   PosixPath('picture/S0027_z100258_20190712.jpg')])]\n",
        "    :param rec_paths:  records of 1 shop, sth like [PosixPath('script/S0027_z100256_20190712r.txt'),\n",
        "   PosixPath('script/S0027_z100257_20190712r.txt'),   PosixPath('script/S0027_z100258_20190712r.txt')]\n",
        "    :param starttime:\n",
        "    :param endtime:\n",
        "    :param threshold:\n",
        "    :param a_list:\n",
        "    :return:name, panorama[-1].image\n",
        "    '''\n",
        "    imgs = list()\n",
        "    for index, txt in enumerate(rec_paths):\n",
        "        flp=time2flp(txt,starttime,endtime)\n",
        "        #print(flp)\n",
        "        a = person_add_up(txt, flp, temp=False)\n",
        "        a[720:755, 362:397] = 0\n",
        "        static = []\n",
        "        static_1 = []\n",
        "        static_2 = []\n",
        "        print('firt_max', a.max())\n",
        "        a_max = a.max()\n",
        "        print('diedai', int(a_max))\n",
        "        for i in range(1, int(a_max) + 1):\n",
        "            num = len(np.where(a == i)[0])\n",
        "            if num != 0:\n",
        "                static_1.append(i)\n",
        "                static.append(num)\n",
        "\n",
        "                if a_max < threshold:\n",
        "                    static_2.append(i)\n",
        "                    continue\n",
        "                if i > threshold:\n",
        "                    mins = threshold\n",
        "                    i_cha_norm = (2 * i - a_list[index] - mins) * v / (a_list[index] - mins)  # [17-59]缩放到[-v,v]\n",
        "                    sig = sigmoid(i_cha_norm) #* 10  # [-v,v]压缩到(0,1)\n",
        "                    a[a == i] = a[a == i] + mins - i + sig  # [17-59]变成[17.04,17.95]\n",
        "                    static_2.append(i)\n",
        "        a = a / (threshold + 1)\n",
        "        print('a_max', a.max())\n",
        "        toadd = a * 255\n",
        "        print('toadd_max', toadd.max())\n",
        "        toadd[toadd > 255] = 255\n",
        "        image_heatmap2 = toadd.astype(np.uint8)\n",
        "        image_heatmap3 = cv2.cvtColor(image_heatmap2, cv2.COLOR_GRAY2BGR)\n",
        "        image_heatmap3 = cv2.GaussianBlur(image_heatmap3, (35, 35), 0)\n",
        "        image_heatmap3 = cv2.cvtColor(image_heatmap3, cv2.COLOR_BGR2GRAY)\n",
        "        #This is to reverse color\n",
        "        img_info = image_heatmap3.shape\n",
        "        image_height = img_info[0]\n",
        "        image_weight = img_info[1]\n",
        "        dst = np.zeros((image_height, image_weight, 1), np.uint8)\n",
        "        for i in range(image_height):\n",
        "            for j in range(image_weight):\n",
        "                grayPixel = image_heatmap3[i][j]\n",
        "                dst[i][j] = 255 - grayPixel\n",
        "        image_heatmap3 = dst\n",
        "        ##########################\n",
        "\n",
        "        # im_gray = cv2.imread(\"pluto.jpg\", cv2.IMREAD_GRAYSCALE)\n",
        "        # im_color = cv2.applyColorMap(im_gray, cv2.COLORMAP_HSV)\n",
        "        startcolor = '#ff0000'  # 红色，可以自行修改\n",
        "        midcolor = '#80ff00'  # 绿色，可以自行修改\n",
        "        endcolor = '#0080ff'  # 蓝色，可以自行修改\n",
        "        cmap2 = col.LinearSegmentedColormap.from_list('own2', [startcolor, '#ffbf00','#ffff00', '#bfff00',midcolor, '#40ff00', '#00ff40', '#00ffbf',endcolor])\n",
        "        # extra arguments are N=256, gamma=1.0\n",
        "        cm.register_cmap(cmap=cmap2)\n",
        "\n",
        "        image_heatmap4 = cv2.applyColorMap(image_heatmap3, cmapy.cmap('own2'))\n",
        "        image_heatmap4[a == 0] = 0\n",
        "        alpha = 0.18  # 这是调节透明度\n",
        "        #openname = txt.split('.')[0]\n",
        "        #openname = openname.rstrip('r')\n",
        "        im19 = cv2.imread(str(img_paths[index]))  # 这是彩色无人背景图\n",
        "        im19 = cv2.resize(im19, (int(img_width), int(img_height)))\n",
        "        image2 = im19.copy()\n",
        "        image_gray_mask = image_heatmap2\n",
        "        image2[image_gray_mask > 0] = image_heatmap4[image_gray_mask > 0]\n",
        "        imgs.append(cv2.addWeighted(im19, 1 - alpha, image2, alpha, 1))\n",
        "\n",
        "    #image_names = rec_paths #['picture/1101.jpg', 'picture/1102.jpg', 'picture/1103.jpg']\n",
        "    images = []\n",
        "    panorama = []\n",
        "    for i in range(0, len(img_paths)): #img is the same number with rec\n",
        "        print(\"Loading \" + str(i))\n",
        "        # img = resize_image(img)\n",
        "        images.append(Image(str(i), imgs[i]))\n",
        "    panorama.append(Image(images[0].name, images[0].image))\n",
        "    count0 = 0\n",
        "    print(\"Your images have been loaded. Generating panorama starts ...\")\n",
        "    name = ('_').join([os.path.split(img_paths[0])[1].split('_')[0],str(endtime)]) #+'.jpg'\n",
        "    shopn = name.split('_')[0]\n",
        "    for i in range(0, len(images) - 1):\n",
        "        panorama.append(Image(str(i + 1), make_panorama(panorama[i], images[i + 1], count0, shopn)))\n",
        "        count0 += 1\n",
        "    print(\"A panorama image is generated.\")\n",
        "    #name = './picture/results/pana' + str(flp) + '.jpg'\n",
        "    #cv2.imwrite(os.path.join(RST_PATH,name), panorama[-1].image)\n",
        "    return name, panorama[-1].image"
      ],
      "execution_count": 0,
      "outputs": []
    },
    {
      "cell_type": "markdown",
      "metadata": {
        "colab_type": "text",
        "id": "-j_Cp5yak557"
      },
      "source": [
        "## 0725"
      ]
    },
    {
      "cell_type": "markdown",
      "metadata": {
        "colab_type": "text",
        "id": "WS5r_LNak55_"
      },
      "source": [
        "### 记事"
      ]
    },
    {
      "cell_type": "markdown",
      "metadata": {
        "colab_type": "text",
        "id": "i0fISnTHk56C"
      },
      "source": [
        "- aria2下载\n",
        "- 定时运行代码apschedule与k8s学习\n",
        "- 页面图个数调整\n"
      ]
    },
    {
      "cell_type": "code",
      "metadata": {
        "id": "RgDagP6Ql-0b",
        "colab_type": "code",
        "colab": {}
      },
      "source": [
        ""
      ],
      "execution_count": 0,
      "outputs": []
    },
    {
      "cell_type": "markdown",
      "metadata": {
        "colab_type": "text",
        "id": "vLfi1P1rN9F5"
      },
      "source": [
        "## 0726"
      ]
    },
    {
      "cell_type": "markdown",
      "metadata": {
        "colab_type": "text",
        "id": "grZBEBT9N9GB"
      },
      "source": [
        "### 记事"
      ]
    },
    {
      "cell_type": "markdown",
      "metadata": {
        "colab_type": "text",
        "id": "bAsIuF9tN9GC"
      },
      "source": [
        "- 定时运行代码apschedule与k8s学习\n",
        "- 页面图个数调整\n",
        "- 安装opencv-contrib-python3.4.1.15卸载opencv, conda install hdf5>1.10.3重安cmapy.24min 处理30min。使用.background import BackgroundScheduler\n"
      ]
    },
    {
      "cell_type": "markdown",
      "metadata": {
        "id": "nQutDI-DnDc1",
        "colab_type": "text"
      },
      "source": [
        "定时运行部分代码"
      ]
    },
    {
      "cell_type": "markdown",
      "metadata": {
        "id": "S3ZH6aRHnYUt",
        "colab_type": "text"
      },
      "source": [
        "```\n",
        "executors = {\n",
        "        'default':ThreadPoolExecutor(10),\n",
        "    'processpool': ProcessPoolExecutor(5)\n",
        "    }\n",
        "    job_defaults = {      #coalescing合并参数就能把一个多次的哑弹任务揉成一个一次的哑弹任务\n",
        "        'coalesce': True,  #If one job missed, then pass to the next time\n",
        "        'max_instances': 3,\n",
        "        'misfire_grace_time': 900\n",
        "        #检查它预订运行的时间和当下时间的差值，大于我们设置的900秒限制，那么这个运行实例不会被执行\n",
        "        } #'max_instances': 3\n",
        "\n",
        "\n",
        "    scheduler = BackgroundScheduler(executors=executors, job_defaults=job_defaults)\n",
        "    scheduler.add_job(run_main, 'cron', hour='1-23', minute='41')\n",
        "    print('Press Ctrl+{0} to exit'.format('Break' if os.name == 'nt' else 'C    '))\n",
        "\n",
        "    try:\n",
        "        scheduler.start()\n",
        "    except (KeyboardInterrupt, SystemExit):\n",
        "        pass\n",
        "```"
      ]
    },
    {
      "cell_type": "markdown",
      "metadata": {
        "id": "Ey3cNGAum-kL",
        "colab_type": "text"
      },
      "source": [
        "页面子图展示代码"
      ]
    },
    {
      "cell_type": "code",
      "metadata": {
        "id": "uq18ea1WPNN5",
        "colab_type": "code",
        "colab": {}
      },
      "source": [
        "def show_inpic(rstpath=HEATRST_PATH, savepth=TOSHOW_PATH):\n",
        "    rstimgs = sorted(Path(rstpath).glob('*.jpg'))\n",
        "    Path(savepth).mkdir(parents=True, exist_ok=True)\n",
        "    h, w, _ = cv2.imread(str(rstimgs[0])).shape\n",
        "    pic_1page = round(32 * h / (w * 9))*2 #all_h/2 * (1pic_w/1pic_h) * pics_of1row =all_w -->pics_of 1row*2 is pic_1page\n",
        "    #pic_1page = 8\n",
        "    rown = 2\n",
        "    coln = pic_1page / rown\n",
        "    pic_n = math.ceil(len(rstimgs) / pic_1page)  # 一共pic_n张大图，每图里有6张结果图\n",
        "    for i in range(pic_n):\n",
        "        fig = plt.figure(figsize=(25, 14))  # 循环各图\n",
        "        plt.subplots_adjust(left=0.01, bottom=0.01, right=0.995, top=0.95, hspace=0.005, wspace=0.0)\n",
        "        for j in range(pic_1page):\n",
        "            ind = i * pic_1page + j  # get index of the picture\n",
        "            if ind > (len(rstimgs) - 1):\n",
        "                plt.savefig(savepth + str(i) + \".jpg\")\n",
        "                break\n",
        "            indtm = ind % pic_1page\n",
        "            r, c = indtm % rown, (indtm % pic_1page) // 2  # 获得matplotlib的行列位置\n",
        "            p = r * coln + c + 1  # 获得matplotlib的序号位置\n",
        "            ax = fig.add_subplot(rown, coln, p)\n",
        "            image = cv2.imread(str(rstimgs[ind]))\n",
        "            #         print(str(ind))\n",
        "            image = cv2.cvtColor(image, cv2.COLOR_BGR2RGB)\n",
        "            plt.xticks([]), plt.yticks([])\n",
        "            if r == 0:  # 如果是第0行，加个小标题\n",
        "                title0 = os.path.split(rstimgs[ind])[1].split('.')[0]\n",
        "                title0 = title0[6:8] + \"時\" +title0[8:10]\n",
        "                ax.set_title(title0, fontproperties=fonts, fontsize=28)\n",
        "                if c == 0:\n",
        "                    title1 = \"時間帯別推移\"\n",
        "                    ax.set_ylabel(title1, fontproperties=fonts, fontsize=28)\n",
        "            if r == 1 and c == 0:\n",
        "                title1 = \"時間帯別累積\"\n",
        "                ax.set_ylabel(title1, fontproperties=fonts, fontsize=28)\n",
        "            plt.imshow(image)\n",
        "            if p == pic_1page:\n",
        "                print(i)\n",
        "                plt.savefig(os.path.join(savepth , str(i) + \".jpg\"))"
      ],
      "execution_count": 0,
      "outputs": []
    },
    {
      "cell_type": "markdown",
      "metadata": {
        "colab_type": "text",
        "id": "n2kD-8R_kpFE"
      },
      "source": [
        "## 0730"
      ]
    },
    {
      "cell_type": "markdown",
      "metadata": {
        "colab_type": "text",
        "id": "Y2HtFFyCkpFM"
      },
      "source": [
        "### 记事"
      ]
    },
    {
      "cell_type": "markdown",
      "metadata": {
        "colab_type": "text",
        "id": "DJZDJyA6kpFN"
      },
      "source": [
        "- 数据结构排序算法小结\n",
        "- fastai lec13\n",
        "- kaggle\n",
        "- docker file调查"
      ]
    },
    {
      "cell_type": "markdown",
      "metadata": {
        "id": "MMPmLkyCkzoF",
        "colab_type": "text"
      },
      "source": [
        "## 0731"
      ]
    },
    {
      "cell_type": "markdown",
      "metadata": {
        "id": "gXaw7yxmkv2-",
        "colab_type": "text"
      },
      "source": [
        "- k8s学习"
      ]
    }
  ]
}